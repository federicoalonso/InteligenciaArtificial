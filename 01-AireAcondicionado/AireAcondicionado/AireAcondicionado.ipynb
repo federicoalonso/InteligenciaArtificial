{
 "cells": [
  {
   "cell_type": "code",
   "execution_count": 2,
   "metadata": {},
   "outputs": [],
   "source": [
    "import gym\n",
    "import numpy as np\n",
    "from gym import error, spaces, utils, Env\n",
    "import matplotlib.pyplot as plt\n",
    "from sklearn.metrics import mean_squared_error, mean_absolute_error"
   ]
  },
  {
   "cell_type": "markdown",
   "metadata": {},
   "source": [
    "# Descripción del problema\n",
    "\n",
    "El siguiente ejemplo consiste en un Ambiente (Room). La temperatura de la habitación cambia debido a la temperatura externa ambiente (se asume de forma desconocida). La habitación cuenta con un equipo de Aire Acondicionado controlado por un Agente. El objetivo de este Agente es mantener la temperatura en 0 grados. El Aire Acondicionado puede cambiar la temperatura en 0, 1, 2 o 3 grados ya sea frío o calor."
   ]
  },
  {
   "cell_type": "markdown",
   "metadata": {},
   "source": [
    "# Ambiente\n",
    "\n",
    "El ambiente (Room) está simulado por el siguiente código"
   ]
  },
  {
   "cell_type": "code",
   "execution_count": 3,
   "metadata": {},
   "outputs": [],
   "source": [
    "class Room(Env):\n",
    "    \n",
    "    def __init__(self):\n",
    "        self.observation_space = spaces.Box(low=-20, high=40, shape=(), dtype=np.float32)\n",
    "        self.action_space = spaces.Discrete(7, start=-3)\n",
    "                  \n",
    "    def reset(self):\n",
    "        self.step_count = 0\n",
    "        self.initial_random = self.observation_space.sample()\n",
    "        self.external_temp = 0\n",
    "        self.external_temp = self._temp_variation()\n",
    "        self.temp = self.external_temp\n",
    "        return self.temp\n",
    "    \n",
    "    def step(self, action):\n",
    "        delta_temp = self._temp_variation()\n",
    "        self.external_temp += delta_temp\n",
    "        self.temp += delta_temp + action\n",
    "        self.step_count += 1\n",
    "        return self.temp\n",
    "\n",
    "    def _temp_variation(self):\n",
    "        x = self.initial_random + self.step_count\n",
    "        return np.float64('%.2f'%(20 * np.sin(x/10))) - self.external_temp \n",
    "          "
   ]
  },
  {
   "cell_type": "markdown",
   "metadata": {},
   "source": [
    "# Test Room"
   ]
  },
  {
   "cell_type": "code",
   "execution_count": 4,
   "metadata": {},
   "outputs": [],
   "source": [
    "env = Room()"
   ]
  },
  {
   "cell_type": "code",
   "execution_count": 5,
   "metadata": {},
   "outputs": [
    {
     "data": {
      "text/plain": [
       "Box(-20.0, 40.0, (), float32)"
      ]
     },
     "execution_count": 5,
     "metadata": {},
     "output_type": "execute_result"
    }
   ],
   "source": [
    "env.observation_space"
   ]
  },
  {
   "cell_type": "code",
   "execution_count": 6,
   "metadata": {},
   "outputs": [
    {
     "data": {
      "text/plain": [
       "array(4.400487, dtype=float32)"
      ]
     },
     "execution_count": 6,
     "metadata": {},
     "output_type": "execute_result"
    }
   ],
   "source": [
    "env.observation_space.sample()"
   ]
  },
  {
   "cell_type": "code",
   "execution_count": 7,
   "metadata": {},
   "outputs": [
    {
     "data": {
      "text/plain": [
       "Discrete(7, start=-3)"
      ]
     },
     "execution_count": 7,
     "metadata": {},
     "output_type": "execute_result"
    }
   ],
   "source": [
    "env.action_space"
   ]
  },
  {
   "cell_type": "code",
   "execution_count": 8,
   "metadata": {},
   "outputs": [
    {
     "data": {
      "text/plain": [
       "-3"
      ]
     },
     "execution_count": 8,
     "metadata": {},
     "output_type": "execute_result"
    }
   ],
   "source": [
    "env.action_space.sample()"
   ]
  },
  {
   "cell_type": "code",
   "execution_count": 25,
   "metadata": {},
   "outputs": [
    {
     "data": {
      "text/plain": [
       "-5.28"
      ]
     },
     "execution_count": 25,
     "metadata": {},
     "output_type": "execute_result"
    }
   ],
   "source": [
    "env.reset()"
   ]
  },
  {
   "cell_type": "markdown",
   "metadata": {},
   "source": [
    "# Reflex Agente\n",
    "\n",
    "Esta es la implementación de un Agente Reflejo Simple, que dada la observación (temperatura de la habitación), toma una acción de enfriar o calentar en 0, 1, 2 o 3 grados. El agente solo enfría o calienta si la temperatura difiere en más de 2 grados."
   ]
  },
  {
   "cell_type": "code",
   "execution_count": 15,
   "metadata": {},
   "outputs": [],
   "source": [
    "class AgentReflex():\n",
    "\n",
    "    def lookup(self, obs):\n",
    "        if obs > 9:\n",
    "            return -3\n",
    "        elif obs > 5:\n",
    "            return -2\n",
    "        elif obs > 2:\n",
    "            return -1\n",
    "        elif obs < -9:\n",
    "            return 3\n",
    "        elif obs < -5:\n",
    "            return 2\n",
    "        elif obs < -1:\n",
    "            return 1\n",
    "        else:\n",
    "            return 0"
   ]
  },
  {
   "cell_type": "markdown",
   "metadata": {},
   "source": [
    "# Test Reflex"
   ]
  },
  {
   "cell_type": "code",
   "execution_count": 16,
   "metadata": {},
   "outputs": [],
   "source": [
    "agent = AgentReflex()"
   ]
  },
  {
   "cell_type": "code",
   "execution_count": 17,
   "metadata": {},
   "outputs": [],
   "source": [
    "obs = env.reset()\n",
    "external_res = []\n",
    "agent_res = []\n",
    "total_steps = 100"
   ]
  },
  {
   "cell_type": "code",
   "execution_count": 18,
   "metadata": {},
   "outputs": [
    {
     "name": "stdout",
     "output_type": "stream",
     "text": [
      "External: 17.53 \n",
      " Prev. Obs: 17.53 -> Action: -3 -> Room: 14.530000000000001\n",
      "External: 17.53 \n",
      " Prev. Obs: 14.530000000000001 -> Action: -3 -> Room: 12.41\n",
      "External: 18.41 \n",
      " Prev. Obs: 12.41 -> Action: -3 -> Room: 10.100000000000001\n",
      "External: 19.1 \n",
      " Prev. Obs: 10.100000000000001 -> Action: -3 -> Room: 7.59\n",
      "External: 19.59 \n",
      " Prev. Obs: 7.59 -> Action: -2 -> Room: 5.899999999999999\n",
      "External: 19.9 \n",
      " Prev. Obs: 5.899999999999999 -> Action: -2 -> Room: 4.0\n",
      "External: 20.0 \n",
      " Prev. Obs: 4.0 -> Action: -1 -> Room: 2.8999999999999986\n",
      "External: 19.9 \n",
      " Prev. Obs: 2.8999999999999986 -> Action: -1 -> Room: 1.6099999999999994\n",
      "External: 19.61 \n",
      " Prev. Obs: 1.6099999999999994 -> Action: 0 -> Room: 1.120000000000001\n",
      "External: 19.12 \n",
      " Prev. Obs: 1.120000000000001 -> Action: 0 -> Room: 0.4400000000000013\n",
      "External: 18.44 \n",
      " Prev. Obs: 0.4400000000000013 -> Action: 0 -> Room: -0.4299999999999997\n",
      "External: 17.57 \n",
      " Prev. Obs: -0.4299999999999997 -> Action: 0 -> Room: -1.4699999999999989\n",
      "External: 16.53 \n",
      " Prev. Obs: -1.4699999999999989 -> Action: 1 -> Room: -1.6799999999999997\n",
      "External: 15.32 \n",
      " Prev. Obs: -1.6799999999999997 -> Action: 1 -> Room: -2.039999999999999\n",
      "External: 13.96 \n",
      " Prev. Obs: -2.039999999999999 -> Action: 1 -> Room: -2.539999999999999\n",
      "External: 12.46 \n",
      " Prev. Obs: -2.539999999999999 -> Action: 1 -> Room: -3.16\n",
      "External: 10.84 \n",
      " Prev. Obs: -3.16 -> Action: 1 -> Room: -3.9000000000000004\n",
      "External: 9.1 \n",
      " Prev. Obs: -3.9000000000000004 -> Action: 1 -> Room: -4.72\n",
      "External: 7.28 \n",
      " Prev. Obs: -4.72 -> Action: 1 -> Room: -5.62\n",
      "External: 5.38 \n",
      " Prev. Obs: -5.62 -> Action: 2 -> Room: -5.5600000000000005\n",
      "External: 3.44 \n",
      " Prev. Obs: -5.5600000000000005 -> Action: 2 -> Room: -5.550000000000001\n",
      "External: 1.45 \n",
      " Prev. Obs: -5.550000000000001 -> Action: 2 -> Room: -5.550000000000001\n",
      "External: -0.55 \n",
      " Prev. Obs: -5.550000000000001 -> Action: 2 -> Room: -5.540000000000001\n",
      "External: -2.54 \n",
      " Prev. Obs: -5.540000000000001 -> Action: 2 -> Room: -5.510000000000001\n",
      "External: -4.51 \n",
      " Prev. Obs: -5.510000000000001 -> Action: 2 -> Room: -5.430000000000001\n",
      "External: -6.43 \n",
      " Prev. Obs: -5.430000000000001 -> Action: 2 -> Room: -5.29\n",
      "External: -8.29 \n",
      " Prev. Obs: -5.29 -> Action: 2 -> Room: -5.070000000000001\n",
      "External: -10.07 \n",
      " Prev. Obs: -5.070000000000001 -> Action: 2 -> Room: -4.740000000000001\n",
      "External: -11.74 \n",
      " Prev. Obs: -4.740000000000001 -> Action: 1 -> Room: -5.300000000000002\n",
      "External: -13.3 \n",
      " Prev. Obs: -5.300000000000002 -> Action: 2 -> Room: -4.7200000000000015\n",
      "External: -14.72 \n",
      " Prev. Obs: -4.7200000000000015 -> Action: 1 -> Room: -5.000000000000001\n",
      "External: -16.0 \n",
      " Prev. Obs: -5.000000000000001 -> Action: 2 -> Room: -4.120000000000002\n",
      "External: -17.12 \n",
      " Prev. Obs: -4.120000000000002 -> Action: 1 -> Room: -4.070000000000001\n",
      "External: -18.07 \n",
      " Prev. Obs: -4.070000000000001 -> Action: 1 -> Room: -3.829999999999999\n",
      "External: -18.83 \n",
      " Prev. Obs: -3.829999999999999 -> Action: 1 -> Room: -3.410000000000001\n",
      "External: -19.41 \n",
      " Prev. Obs: -3.410000000000001 -> Action: 1 -> Room: -2.79\n",
      "External: -19.79 \n",
      " Prev. Obs: -2.79 -> Action: 1 -> Room: -1.9800000000000013\n",
      "External: -19.98 \n",
      " Prev. Obs: -1.9800000000000013 -> Action: 1 -> Room: -0.9699999999999998\n",
      "External: -19.97 \n",
      " Prev. Obs: -0.9699999999999998 -> Action: 0 -> Room: -0.7600000000000025\n",
      "External: -19.76 \n",
      " Prev. Obs: -0.7600000000000025 -> Action: 0 -> Room: -0.3500000000000023\n",
      "External: -19.35 \n",
      " Prev. Obs: -0.3500000000000023 -> Action: 0 -> Room: 0.2600000000000007\n",
      "External: -18.74 \n",
      " Prev. Obs: 0.2600000000000007 -> Action: 0 -> Room: 1.0499999999999998\n",
      "External: -17.95 \n",
      " Prev. Obs: 1.0499999999999998 -> Action: 0 -> Room: 2.0199999999999987\n",
      "External: -16.98 \n",
      " Prev. Obs: 2.0199999999999987 -> Action: -1 -> Room: 2.1599999999999993\n",
      "External: -15.84 \n",
      " Prev. Obs: 2.1599999999999993 -> Action: -1 -> Room: 2.46\n",
      "External: -14.54 \n",
      " Prev. Obs: 2.46 -> Action: -1 -> Room: 2.8999999999999995\n",
      "External: -13.1 \n",
      " Prev. Obs: 2.8999999999999995 -> Action: -1 -> Room: 3.4699999999999998\n",
      "External: -11.53 \n",
      " Prev. Obs: 3.4699999999999998 -> Action: -1 -> Room: 4.159999999999999\n",
      "External: -9.84 \n",
      " Prev. Obs: 4.159999999999999 -> Action: -1 -> Room: 4.949999999999998\n",
      "External: -8.05 \n",
      " Prev. Obs: 4.949999999999998 -> Action: -1 -> Room: 5.819999999999999\n",
      "External: -6.18 \n",
      " Prev. Obs: 5.819999999999999 -> Action: -2 -> Room: 5.749999999999999\n",
      "External: -4.25 \n",
      " Prev. Obs: 5.749999999999999 -> Action: -2 -> Room: 5.719999999999999\n",
      "External: -2.28 \n",
      " Prev. Obs: 5.719999999999999 -> Action: -2 -> Room: 5.719999999999999\n",
      "External: -0.28 \n",
      " Prev. Obs: 5.719999999999999 -> Action: -2 -> Room: 5.709999999999999\n",
      "External: 1.71 \n",
      " Prev. Obs: 5.709999999999999 -> Action: -2 -> Room: 5.6899999999999995\n",
      "External: 3.69 \n",
      " Prev. Obs: 5.6899999999999995 -> Action: -2 -> Room: 5.639999999999999\n",
      "External: 5.64 \n",
      " Prev. Obs: 5.639999999999999 -> Action: -2 -> Room: 5.529999999999999\n",
      "External: 7.53 \n",
      " Prev. Obs: 5.529999999999999 -> Action: -2 -> Room: 5.339999999999999\n",
      "External: 9.34 \n",
      " Prev. Obs: 5.339999999999999 -> Action: -2 -> Room: 5.06\n",
      "External: 11.06 \n",
      " Prev. Obs: 5.06 -> Action: -2 -> Room: 4.669999999999999\n",
      "External: 12.67 \n",
      " Prev. Obs: 4.669999999999999 -> Action: -1 -> Room: 5.1499999999999995\n",
      "External: 14.15 \n",
      " Prev. Obs: 5.1499999999999995 -> Action: -2 -> Room: 4.489999999999999\n",
      "External: 15.49 \n",
      " Prev. Obs: 4.489999999999999 -> Action: -1 -> Room: 4.670000000000001\n",
      "External: 16.67 \n",
      " Prev. Obs: 4.670000000000001 -> Action: -1 -> Room: 4.69\n",
      "External: 17.69 \n",
      " Prev. Obs: 4.69 -> Action: -1 -> Room: 4.539999999999998\n",
      "External: 18.54 \n",
      " Prev. Obs: 4.539999999999998 -> Action: -1 -> Room: 4.19\n",
      "External: 19.19 \n",
      " Prev. Obs: 4.19 -> Action: -1 -> Room: 3.6599999999999993\n",
      "External: 19.66 \n",
      " Prev. Obs: 3.6599999999999993 -> Action: -1 -> Room: 2.929999999999999\n",
      "External: 19.93 \n",
      " Prev. Obs: 2.929999999999999 -> Action: -1 -> Room: 1.9999999999999991\n",
      "External: 20.0 \n",
      " Prev. Obs: 1.9999999999999991 -> Action: 0 -> Room: 1.87\n",
      "External: 19.87 \n",
      " Prev. Obs: 1.87 -> Action: 0 -> Room: 1.5399999999999983\n",
      "External: 19.54 \n",
      " Prev. Obs: 1.5399999999999983 -> Action: 0 -> Room: 1.0199999999999987\n",
      "External: 19.02 \n",
      " Prev. Obs: 1.0199999999999987 -> Action: 0 -> Room: 0.2999999999999998\n",
      "External: 18.3 \n",
      " Prev. Obs: 0.2999999999999998 -> Action: 0 -> Room: -0.5900000000000007\n",
      "External: 17.41 \n",
      " Prev. Obs: -0.5900000000000007 -> Action: 0 -> Room: -1.660000000000001\n",
      "External: 16.34 \n",
      " Prev. Obs: -1.660000000000001 -> Action: 1 -> Room: -1.9000000000000012\n",
      "External: 15.1 \n",
      " Prev. Obs: -1.9000000000000012 -> Action: 1 -> Room: -2.2800000000000002\n",
      "External: 13.72 \n",
      " Prev. Obs: -2.2800000000000002 -> Action: 1 -> Room: -2.8000000000000016\n",
      "External: 12.2 \n",
      " Prev. Obs: -2.8000000000000016 -> Action: 1 -> Room: -3.45\n",
      "External: 10.55 \n",
      " Prev. Obs: -3.45 -> Action: 1 -> Room: -4.2\n",
      "External: 8.8 \n",
      " Prev. Obs: -4.2 -> Action: 1 -> Room: -5.030000000000001\n",
      "External: 6.97 \n",
      " Prev. Obs: -5.030000000000001 -> Action: 2 -> Room: -4.940000000000001\n",
      "External: 5.06 \n",
      " Prev. Obs: -4.940000000000001 -> Action: 1 -> Room: -5.9\n",
      "External: 3.1 \n",
      " Prev. Obs: -5.9 -> Action: 2 -> Room: -5.880000000000001\n",
      "External: 1.12 \n",
      " Prev. Obs: -5.880000000000001 -> Action: 2 -> Room: -5.880000000000001\n",
      "External: -0.8799999999999999 \n",
      " Prev. Obs: -5.880000000000001 -> Action: 2 -> Room: -5.870000000000001\n",
      "External: -2.87 \n",
      " Prev. Obs: -5.870000000000001 -> Action: 2 -> Room: -5.840000000000001\n",
      "External: -4.84 \n",
      " Prev. Obs: -5.840000000000001 -> Action: 2 -> Room: -5.750000000000001\n",
      "External: -6.75 \n",
      " Prev. Obs: -5.750000000000001 -> Action: 2 -> Room: -5.590000000000001\n",
      "External: -8.59 \n",
      " Prev. Obs: -5.590000000000001 -> Action: 2 -> Room: -5.3500000000000005\n",
      "External: -10.35 \n",
      " Prev. Obs: -5.3500000000000005 -> Action: 2 -> Room: -5.010000000000001\n",
      "External: -12.01 \n",
      " Prev. Obs: -5.010000000000001 -> Action: 2 -> Room: -4.550000000000002\n",
      "External: -13.55 \n",
      " Prev. Obs: -4.550000000000002 -> Action: 1 -> Room: -4.95\n",
      "External: -14.95 \n",
      " Prev. Obs: -4.95 -> Action: 1 -> Room: -5.2\n",
      "External: -16.2 \n",
      " Prev. Obs: -5.2 -> Action: 2 -> Room: -4.29\n",
      "External: -17.29 \n",
      " Prev. Obs: -4.29 -> Action: 1 -> Room: -4.210000000000002\n",
      "External: -18.21 \n",
      " Prev. Obs: -4.210000000000002 -> Action: 1 -> Room: -3.940000000000002\n",
      "External: -18.94 \n",
      " Prev. Obs: -3.940000000000002 -> Action: 1 -> Room: -3.4899999999999993\n",
      "External: -19.49 \n",
      " Prev. Obs: -3.4899999999999993 -> Action: 1 -> Room: -2.8400000000000007\n",
      "External: -19.84 \n",
      " Prev. Obs: -2.8400000000000007 -> Action: 1 -> Room: -1.9899999999999993\n"
     ]
    }
   ],
   "source": [
    "for i in range(0, total_steps):  \n",
    "    \n",
    "    # solamente para evaluar la evolución de la temperatura de la habitación con y sin agente\n",
    "    # la temperatura de la habitación sin el agente es igual a la temperatura exterior\n",
    "    \n",
    "    external_temp = env.external_temp\n",
    "    external_res.append(external_temp)\n",
    "    \n",
    "    # decisión y acción del agente\n",
    "    \n",
    "    prev_obs = obs\n",
    "    action = agent.lookup(obs)\n",
    "    obs = env.step(action)\n",
    "    agent_res.append(obs)  \n",
    "    \n",
    "    print('External:', external_temp, '\\n','Prev. Obs:', prev_obs, '-> Action:', action, '-> Room:', obs)"
   ]
  },
  {
   "cell_type": "markdown",
   "metadata": {},
   "source": [
    "# Graficando los resultados"
   ]
  },
  {
   "cell_type": "code",
   "execution_count": 19,
   "metadata": {},
   "outputs": [
    {
     "data": {
      "text/plain": [
       "[<matplotlib.lines.Line2D at 0x1aad004f820>]"
      ]
     },
     "execution_count": 19,
     "metadata": {},
     "output_type": "execute_result"
    },
    {
     "data": {
      "image/png": "[encoded data removed]",
      "text/plain": [
       "<Figure size 432x288 with 1 Axes>"
      ]
     },
     "metadata": {
      "needs_background": "light"
     },
     "output_type": "display_data"
    }
   ],
   "source": [
    "plt.axhline(color='black')                                  #Temperatura ideal\n",
    "plt.plot(range(0, total_steps), agent_res, color='red')     #Temperatura con el agente\n",
    "plt.plot(range(0, total_steps), external_res, color='blue') #Temperatura sin agente"
   ]
  },
  {
   "cell_type": "markdown",
   "metadata": {},
   "source": [
    "# Métrica de Performance\n",
    "Una posible métrica de performance, podría ser ver la temperatura media del ambiente con la acción del agente."
   ]
  },
  {
   "cell_type": "code",
   "execution_count": 20,
   "metadata": {},
   "outputs": [
    {
     "name": "stdout",
     "output_type": "stream",
     "text": [
      "Temperatura media con el agente:  -0.38750000000000057\n",
      "Temperatura media sin el agente:  1.3777000000000001\n"
     ]
    }
   ],
   "source": [
    "print(\"Temperatura media con el agente: \", np.mean(agent_res))\n",
    "print(\"Temperatura media sin el agente: \", np.mean(external_res))"
   ]
  },
  {
   "cell_type": "markdown",
   "metadata": {},
   "source": [
    "Otra posible métrica de performance, es evaluar para cada instante de tiempo (step) cuanto difiere la temperatura obtenida de la objetivo=0. Esto se puede hacer con mean_squared_error o mean_absolute_error. \n",
    "Comparemos la métrica obtenida por el agente contra la métrica obtenida sin un agente:"
   ]
  },
  {
   "cell_type": "code",
   "execution_count": 21,
   "metadata": {},
   "outputs": [
    {
     "name": "stdout",
     "output_type": "stream",
     "text": [
      "Variación media con el agente:  4.1021\n",
      "Variación media sin el agente:  13.0727\n"
     ]
    }
   ],
   "source": [
    "goal_temp = np.zeros(total_steps)\n",
    "print(\"Variación media con el agente: \", mean_absolute_error(goal_temp, agent_res))\n",
    "print(\"Variación media sin el agente: \", mean_absolute_error(goal_temp, external_res))"
   ]
  },
  {
   "cell_type": "markdown",
   "metadata": {},
   "source": [
    "# Ejercicio: Model (Goal / Utility) Based Agent "
   ]
  },
  {
   "cell_type": "markdown",
   "metadata": {},
   "source": [
    "Construir un Agente basado en un modelo. \n",
    "\n",
    "Esto es: \n",
    "\n",
    "    - Construir un modelo a mano, por ejemplo un grafo, con estados y transiciones [Ver figura].    \n",
    "    - Discretizar las observaciones devueltas por el ambiente mapeándolas a un estado.    \n",
    "    - Tomar una decisón basada en el estado.    \n",
    "    - Definir un objetivo y una utilidad\n",
    "\n",
    "Por ejemplo, el Agente podría conocer un modelo que tiene 2 estados {Frío, Calor}\n",
    "\n",
    "<img src=\"Modelo.png\">\n"
   ]
  },
  {
   "cell_type": "code",
   "execution_count": 40,
   "metadata": {},
   "outputs": [],
   "source": [
    "class State():\n",
    "    def itsVeryCold(self, obs):\n",
    "        return obs < -5\n",
    "    def itsCold(self, obs):\n",
    "        return (obs > -1) and (obs < -5)\n",
    "    def itsOK(self, obs):\n",
    "        return obs > -1 and obs < 1\n",
    "    def itsHot(self, obs):\n",
    "        return obs > 1 and obs < 5\n",
    "    def itsVeryHot(self, obs):\n",
    "        return obs > 5"
   ]
  },
  {
   "cell_type": "code",
   "execution_count": 41,
   "metadata": {},
   "outputs": [],
   "source": [
    "class AgentModelBased():\n",
    "\n",
    "    def lookup(self, obs):\n",
    "        state = State()\n",
    "        if state.itsVeryCold(obs):\n",
    "            return 5\n",
    "        if state.itsCold(obs):\n",
    "            return 3\n",
    "        if state.itsOK(obs):\n",
    "            return 0\n",
    "        if state.itsHot(obs):\n",
    "            return -3\n",
    "        return -5"
   ]
  },
  {
   "cell_type": "code",
   "execution_count": 42,
   "metadata": {},
   "outputs": [],
   "source": [
    "agent = AgentModelBased()"
   ]
  },
  {
   "cell_type": "code",
   "execution_count": 43,
   "metadata": {},
   "outputs": [],
   "source": [
    "obs = env.reset()\n",
    "external_res = []\n",
    "agent_res = []\n",
    "total_steps = 100"
   ]
  },
  {
   "cell_type": "code",
   "execution_count": 44,
   "metadata": {},
   "outputs": [
    {
     "name": "stdout",
     "output_type": "stream",
     "text": [
      "External: 9.86 \n",
      " Prev. Obs: 9.86 -> Action: -5 -> Room: 4.859999999999999\n",
      "External: 9.86 \n",
      " Prev. Obs: 4.859999999999999 -> Action: -3 -> Room: 3.539999999999999\n",
      "External: 11.54 \n",
      " Prev. Obs: 3.539999999999999 -> Action: -3 -> Room: 2.119999999999999\n",
      "External: 13.12 \n",
      " Prev. Obs: 2.119999999999999 -> Action: -3 -> Room: 0.5600000000000005\n",
      "External: 14.56 \n",
      " Prev. Obs: 0.5600000000000005 -> Action: 0 -> Room: 1.8499999999999996\n",
      "External: 15.85 \n",
      " Prev. Obs: 1.8499999999999996 -> Action: -3 -> Room: -0.010000000000001563\n",
      "External: 16.99 \n",
      " Prev. Obs: -0.010000000000001563 -> Action: 0 -> Room: 0.9600000000000009\n",
      "External: 17.96 \n",
      " Prev. Obs: 0.9600000000000009 -> Action: 0 -> Room: 1.75\n",
      "External: 18.75 \n",
      " Prev. Obs: 1.75 -> Action: -3 -> Room: -0.6499999999999986\n",
      "External: 19.35 \n",
      " Prev. Obs: -0.6499999999999986 -> Action: 0 -> Room: -0.23999999999999844\n",
      "External: 19.76 \n",
      " Prev. Obs: -0.23999999999999844 -> Action: 0 -> Room: -0.030000000000001137\n",
      "External: 19.97 \n",
      " Prev. Obs: -0.030000000000001137 -> Action: 0 -> Room: -0.019999999999999574\n",
      "External: 19.98 \n",
      " Prev. Obs: -0.019999999999999574 -> Action: 0 -> Room: -0.21000000000000085\n",
      "External: 19.79 \n",
      " Prev. Obs: -0.21000000000000085 -> Action: 0 -> Room: -0.5899999999999999\n",
      "External: 19.41 \n",
      " Prev. Obs: -0.5899999999999999 -> Action: 0 -> Room: -1.1799999999999997\n",
      "External: 18.82 \n",
      " Prev. Obs: -1.1799999999999997 -> Action: -5 -> Room: -6.940000000000001\n",
      "External: 18.06 \n",
      " Prev. Obs: -6.940000000000001 -> Action: 5 -> Room: -2.8900000000000006\n",
      "External: 17.11 \n",
      " Prev. Obs: -2.8900000000000006 -> Action: -5 -> Room: -9.01\n",
      "External: 15.99 \n",
      " Prev. Obs: -9.01 -> Action: 5 -> Room: -5.289999999999999\n",
      "External: 14.71 \n",
      " Prev. Obs: -5.289999999999999 -> Action: 5 -> Room: -1.7200000000000006\n",
      "External: 13.28 \n",
      " Prev. Obs: -1.7200000000000006 -> Action: -5 -> Room: -8.28\n",
      "External: 11.72 \n",
      " Prev. Obs: -8.28 -> Action: 5 -> Room: -4.949999999999999\n",
      "External: 10.05 \n",
      " Prev. Obs: -4.949999999999999 -> Action: -5 -> Room: -11.73\n",
      "External: 8.27 \n",
      " Prev. Obs: -11.73 -> Action: 5 -> Room: -8.59\n",
      "External: 6.41 \n",
      " Prev. Obs: -8.59 -> Action: 5 -> Room: -5.51\n",
      "External: 4.49 \n",
      " Prev. Obs: -5.51 -> Action: 5 -> Room: -2.48\n",
      "External: 2.52 \n",
      " Prev. Obs: -2.48 -> Action: -5 -> Room: -9.47\n",
      "External: 0.53 \n",
      " Prev. Obs: -9.47 -> Action: 5 -> Room: -6.470000000000001\n",
      "External: -1.47 \n",
      " Prev. Obs: -6.470000000000001 -> Action: 5 -> Room: -3.460000000000001\n",
      "External: -3.46 \n",
      " Prev. Obs: -3.460000000000001 -> Action: -5 -> Room: -10.41\n",
      "External: -5.41 \n",
      " Prev. Obs: -10.41 -> Action: 5 -> Room: -7.3\n",
      "External: -7.3 \n",
      " Prev. Obs: -7.3 -> Action: 5 -> Room: -4.119999999999999\n",
      "External: -9.12 \n",
      " Prev. Obs: -4.119999999999999 -> Action: -5 -> Room: -10.85\n",
      "External: -10.85 \n",
      " Prev. Obs: -10.85 -> Action: 5 -> Room: -7.48\n",
      "External: -12.48 \n",
      " Prev. Obs: -7.48 -> Action: 5 -> Room: -3.9800000000000004\n",
      "External: -13.98 \n",
      " Prev. Obs: -3.9800000000000004 -> Action: -5 -> Room: -10.33\n",
      "External: -15.33 \n",
      " Prev. Obs: -10.33 -> Action: 5 -> Room: -6.539999999999999\n",
      "External: -16.54 \n",
      " Prev. Obs: -6.539999999999999 -> Action: 5 -> Room: -2.5799999999999983\n",
      "External: -17.58 \n",
      " Prev. Obs: -2.5799999999999983 -> Action: -5 -> Room: -8.440000000000001\n",
      "External: -18.44 \n",
      " Prev. Obs: -8.440000000000001 -> Action: 5 -> Room: -4.120000000000001\n",
      "External: -19.12 \n",
      " Prev. Obs: -4.120000000000001 -> Action: -5 -> Room: -9.61\n",
      "External: -19.61 \n",
      " Prev. Obs: -9.61 -> Action: 5 -> Room: -4.91\n",
      "External: -19.91 \n",
      " Prev. Obs: -4.91 -> Action: -5 -> Room: -10.0\n",
      "External: -20.0 \n",
      " Prev. Obs: -10.0 -> Action: 5 -> Room: -4.890000000000001\n",
      "External: -19.89 \n",
      " Prev. Obs: -4.890000000000001 -> Action: -5 -> Room: -9.59\n",
      "External: -19.59 \n",
      " Prev. Obs: -9.59 -> Action: 5 -> Room: -4.09\n",
      "External: -19.09 \n",
      " Prev. Obs: -4.09 -> Action: -5 -> Room: -8.399999999999999\n",
      "External: -18.4 \n",
      " Prev. Obs: -8.399999999999999 -> Action: 5 -> Room: -2.5199999999999996\n",
      "External: -17.52 \n",
      " Prev. Obs: -2.5199999999999996 -> Action: -5 -> Room: -6.469999999999999\n",
      "External: -16.47 \n",
      " Prev. Obs: -6.469999999999999 -> Action: 5 -> Room: -0.2599999999999998\n",
      "External: -15.26 \n",
      " Prev. Obs: -0.2599999999999998 -> Action: 0 -> Room: 1.1099999999999994\n",
      "External: -13.89 \n",
      " Prev. Obs: 1.1099999999999994 -> Action: -3 -> Room: -0.39000000000000057\n",
      "External: -12.39 \n",
      " Prev. Obs: -0.39000000000000057 -> Action: 0 -> Room: 1.2400000000000002\n",
      "External: -10.76 \n",
      " Prev. Obs: 1.2400000000000002 -> Action: -3 -> Room: -0.019999999999999574\n",
      "External: -9.02 \n",
      " Prev. Obs: -0.019999999999999574 -> Action: 0 -> Room: 1.8099999999999996\n",
      "External: -7.19 \n",
      " Prev. Obs: 1.8099999999999996 -> Action: -3 -> Room: 0.71\n",
      "External: -5.29 \n",
      " Prev. Obs: 0.71 -> Action: 0 -> Room: 2.66\n",
      "External: -3.34 \n",
      " Prev. Obs: 2.66 -> Action: -3 -> Room: 1.64\n",
      "External: -1.36 \n",
      " Prev. Obs: 1.64 -> Action: -3 -> Room: 0.6399999999999999\n",
      "External: 0.6399999999999999 \n",
      " Prev. Obs: 0.6399999999999999 -> Action: 0 -> Room: 2.63\n",
      "External: 2.63 \n",
      " Prev. Obs: 2.63 -> Action: -3 -> Room: 1.5999999999999996\n",
      "External: 4.6 \n",
      " Prev. Obs: 1.5999999999999996 -> Action: -3 -> Room: 0.5199999999999996\n",
      "External: 6.52 \n",
      " Prev. Obs: 0.5199999999999996 -> Action: 0 -> Room: 2.380000000000001\n",
      "External: 8.38 \n",
      " Prev. Obs: 2.380000000000001 -> Action: -3 -> Room: 1.1500000000000004\n",
      "External: 10.15 \n",
      " Prev. Obs: 1.1500000000000004 -> Action: -3 -> Room: -0.17999999999999972\n",
      "External: 11.82 \n",
      " Prev. Obs: -0.17999999999999972 -> Action: 0 -> Room: 1.3699999999999992\n",
      "External: 13.37 \n",
      " Prev. Obs: 1.3699999999999992 -> Action: -3 -> Room: -0.21000000000000085\n",
      "External: 14.79 \n",
      " Prev. Obs: -0.21000000000000085 -> Action: 0 -> Room: 1.0599999999999987\n",
      "External: 16.06 \n",
      " Prev. Obs: 1.0599999999999987 -> Action: -3 -> Room: -0.8299999999999983\n",
      "External: 17.17 \n",
      " Prev. Obs: -0.8299999999999983 -> Action: 0 -> Room: 0.10999999999999943\n",
      "External: 18.11 \n",
      " Prev. Obs: 0.10999999999999943 -> Action: 0 -> Room: 0.8599999999999994\n",
      "External: 18.86 \n",
      " Prev. Obs: 0.8599999999999994 -> Action: 0 -> Room: 1.4299999999999997\n",
      "External: 19.43 \n",
      " Prev. Obs: 1.4299999999999997 -> Action: -3 -> Room: -1.1900000000000013\n",
      "External: 19.81 \n",
      " Prev. Obs: -1.1900000000000013 -> Action: -5 -> Room: -6.010000000000002\n",
      "External: 19.99 \n",
      " Prev. Obs: -6.010000000000002 -> Action: 5 -> Room: -1.0399999999999991\n",
      "External: 19.96 \n",
      " Prev. Obs: -1.0399999999999991 -> Action: -5 -> Room: -6.260000000000002\n",
      "External: 19.74 \n",
      " Prev. Obs: -6.260000000000002 -> Action: 5 -> Room: -1.6799999999999997\n",
      "External: 19.32 \n",
      " Prev. Obs: -1.6799999999999997 -> Action: -5 -> Room: -7.289999999999999\n",
      "External: 18.71 \n",
      " Prev. Obs: -7.289999999999999 -> Action: 5 -> Room: -3.09\n",
      "External: 17.91 \n",
      " Prev. Obs: -3.09 -> Action: -5 -> Room: -9.07\n",
      "External: 16.93 \n",
      " Prev. Obs: -9.07 -> Action: 5 -> Room: -5.220000000000001\n",
      "External: 15.78 \n",
      " Prev. Obs: -5.220000000000001 -> Action: 5 -> Room: -1.5199999999999996\n",
      "External: 14.48 \n",
      " Prev. Obs: -1.5199999999999996 -> Action: -5 -> Room: -7.970000000000001\n",
      "External: 13.03 \n",
      " Prev. Obs: -7.970000000000001 -> Action: 5 -> Room: -4.550000000000001\n",
      "External: 11.45 \n",
      " Prev. Obs: -4.550000000000001 -> Action: -5 -> Room: -11.25\n",
      "External: 9.75 \n",
      " Prev. Obs: -11.25 -> Action: 5 -> Room: -8.04\n",
      "External: 7.96 \n",
      " Prev. Obs: -8.04 -> Action: 5 -> Room: -4.909999999999999\n",
      "External: 6.09 \n",
      " Prev. Obs: -4.909999999999999 -> Action: -5 -> Room: -11.84\n",
      "External: 4.16 \n",
      " Prev. Obs: -11.84 -> Action: 5 -> Room: -8.81\n",
      "External: 2.19 \n",
      " Prev. Obs: -8.81 -> Action: 5 -> Room: -5.8100000000000005\n",
      "External: 0.18999999999999995 \n",
      " Prev. Obs: -5.8100000000000005 -> Action: 5 -> Room: -2.8100000000000005\n",
      "External: -1.81 \n",
      " Prev. Obs: -2.8100000000000005 -> Action: -5 -> Room: -9.790000000000001\n",
      "External: -3.79 \n",
      " Prev. Obs: -9.790000000000001 -> Action: 5 -> Room: -6.730000000000001\n",
      "External: -5.73 \n",
      " Prev. Obs: -6.730000000000001 -> Action: 5 -> Room: -3.610000000000001\n",
      "External: -7.61 \n",
      " Prev. Obs: -3.610000000000001 -> Action: -5 -> Room: -10.420000000000002\n",
      "External: -9.42 \n",
      " Prev. Obs: -10.420000000000002 -> Action: 5 -> Room: -7.140000000000002\n",
      "External: -11.14 \n",
      " Prev. Obs: -7.140000000000002 -> Action: 5 -> Room: -3.740000000000002\n",
      "External: -12.74 \n",
      " Prev. Obs: -3.740000000000002 -> Action: -5 -> Room: -10.210000000000003\n",
      "External: -14.21 \n",
      " Prev. Obs: -10.210000000000003 -> Action: 5 -> Room: -6.5500000000000025\n",
      "External: -15.55 \n",
      " Prev. Obs: -6.5500000000000025 -> Action: 5 -> Room: -2.730000000000002\n"
     ]
    }
   ],
   "source": [
    "for i in range(0, total_steps):  \n",
    "    \n",
    "    # solamente para evaluar la evolución de la temperatura de la habitación con y sin agente\n",
    "    # la temperatura de la habitación sin el agente es igual a la temperatura exterior\n",
    "    \n",
    "    external_temp = env.external_temp\n",
    "    external_res.append(external_temp)\n",
    "    \n",
    "    # decisión y acción del agente\n",
    "    \n",
    "    prev_obs = obs\n",
    "    action = agent.lookup(obs)\n",
    "    obs = env.step(action)\n",
    "    agent_res.append(obs)  \n",
    "    \n",
    "    print('External:', external_temp, '\\n','Prev. Obs:', prev_obs, '-> Action:', action, '-> Room:', obs)"
   ]
  },
  {
   "cell_type": "code",
   "execution_count": 45,
   "metadata": {},
   "outputs": [
    {
     "data": {
      "text/plain": [
       "[<matplotlib.lines.Line2D at 0x1aad01b0e50>]"
      ]
     },
     "execution_count": 45,
     "metadata": {},
     "output_type": "execute_result"
    },
    {
     "data": {
      "image/png": "[encoded data removed]",
      "text/plain": [
       "<Figure size 432x288 with 1 Axes>"
      ]
     },
     "metadata": {
      "needs_background": "light"
     },
     "output_type": "display_data"
    }
   ],
   "source": [
    "plt.axhline(color='black')                                  #Temperatura ideal\n",
    "plt.plot(range(0, total_steps), agent_res, color='red')     #Temperatura con el agente\n",
    "plt.plot(range(0, total_steps), external_res, color='blue') #Temperatura sin agente"
   ]
  },
  {
   "cell_type": "code",
   "execution_count": null,
   "metadata": {},
   "outputs": [],
   "source": []
  }
 ],
 "metadata": {
  "kernelspec": {
   "display_name": "Python 3 (ipykernel)",
   "language": "python",
   "name": "python3"
  },
  "language_info": {
   "codemirror_mode": {
    "name": "ipython",
    "version": 3
   },
   "file_extension": ".py",
   "mimetype": "text/x-python",
   "name": "python",
   "nbconvert_exporter": "python",
   "pygments_lexer": "ipython3",
   "version": "3.10.4"
  }
 },
 "nbformat": 4,
 "nbformat_minor": 4
}
