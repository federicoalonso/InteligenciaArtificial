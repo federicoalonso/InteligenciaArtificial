{
 "cells": [
  {
   "cell_type": "code",
   "execution_count": 1,
   "metadata": {},
   "outputs": [],
   "source": [
    "from riverCrossEnv import RiverCrossEnv\n",
    "from riverCrossModel import RiverCrossModel\n",
    "from riverCrossUtils import finish, render_action"
   ]
  },
  {
   "cell_type": "code",
   "execution_count": 2,
   "metadata": {},
   "outputs": [],
   "source": [
    "env = RiverCrossEnv()\n",
    "model = RiverCrossModel()\n",
    "node, prev_node = model.BFS()\n",
    "model.make_strategy(node, prev_node)"
   ]
  },
  {
   "cell_type": "code",
   "execution_count": 3,
   "metadata": {},
   "outputs": [
    {
     "name": "stdout",
     "output_type": "stream",
     "text": [
      "CGW< __\n",
      "G R\n",
      "CW > _G\n",
      "F L\n",
      "CW < _G\n",
      "C R\n",
      "W_ > GC\n",
      "G L\n",
      "GW < _C\n",
      "W R\n",
      "G_ > WC\n",
      "F L\n",
      "G_ < WC\n",
      "G R\n",
      "Felicitaciones, ganaste!\n"
     ]
    }
   ],
   "source": [
    "done = False\n",
    "obs = env.reset()\n",
    "while (not(done)):\n",
    "    env.render()\n",
    "    action = model.strategy(obs)  \n",
    "    render_action(action)\n",
    "    obs, _, done, _ = env.step(action)       \n",
    "finish(obs)"
   ]
  },
  {
   "cell_type": "code",
   "execution_count": null,
   "metadata": {},
   "outputs": [],
   "source": []
  }
 ],
 "metadata": {
  "kernelspec": {
   "display_name": "Python 3",
   "language": "python",
   "name": "python3"
  },
  "language_info": {
   "codemirror_mode": {
    "name": "ipython",
    "version": 3
   },
   "file_extension": ".py",
   "mimetype": "text/x-python",
   "name": "python",
   "nbconvert_exporter": "python",
   "pygments_lexer": "ipython3",
   "version": "3.7.6"
  }
 },
 "nbformat": 4,
 "nbformat_minor": 2
}
